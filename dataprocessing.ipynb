{
 "cells": [
  {
   "cell_type": "code",
   "execution_count": 1,
   "metadata": {},
   "outputs": [],
   "source": [
    "import numpy as numpy\n",
    "import pandas as pd"
   ]
  },
  {
   "cell_type": "code",
   "execution_count": 6,
   "metadata": {},
   "outputs": [
    {
     "data": {
      "text/html": [
       "<div>\n",
       "<style scoped>\n",
       "    .dataframe tbody tr th:only-of-type {\n",
       "        vertical-align: middle;\n",
       "    }\n",
       "\n",
       "    .dataframe tbody tr th {\n",
       "        vertical-align: top;\n",
       "    }\n",
       "\n",
       "    .dataframe thead th {\n",
       "        text-align: right;\n",
       "    }\n",
       "</style>\n",
       "<table border=\"1\" class=\"dataframe\">\n",
       "  <thead>\n",
       "    <tr style=\"text-align: right;\">\n",
       "      <th></th>\n",
       "      <th>PscInspectionId,deficiency_code,Most_Frequent_Severity,def_text</th>\n",
       "    </tr>\n",
       "  </thead>\n",
       "  <tbody>\n",
       "    <tr>\n",
       "      <th>0</th>\n",
       "      <td>1622854,11119,Medium,\"PscInspectionId: 1622854</td>\n",
       "    </tr>\n",
       "    <tr>\n",
       "      <th>1</th>\n",
       "      <td>Deficiency/Finding: Immersion suit located in ...</td>\n",
       "    </tr>\n",
       "    <tr>\n",
       "      <th>2</th>\n",
       "      <td>Description Overview: UNKNOWN</td>\n",
       "    </tr>\n",
       "    <tr>\n",
       "      <th>3</th>\n",
       "      <td>Immediate Causes: UNKNOWN</td>\n",
       "    </tr>\n",
       "    <tr>\n",
       "      <th>4</th>\n",
       "      <td>Root Cause Analysis: PIC was not checked the p...</td>\n",
       "    </tr>\n",
       "    <tr>\n",
       "      <th>...</th>\n",
       "      <td>...</td>\n",
       "    </tr>\n",
       "    <tr>\n",
       "      <th>45243</th>\n",
       "      <td>Root Cause Analysis: Inadequate maintenance -....</td>\n",
       "    </tr>\n",
       "    <tr>\n",
       "      <th>45244</th>\n",
       "      <td>Corrective Action: -. The missing spring will ...</td>\n",
       "    </tr>\n",
       "    <tr>\n",
       "      <th>45245</th>\n",
       "      <td>Preventive Action: -. The responsible crew wil...</td>\n",
       "    </tr>\n",
       "    <tr>\n",
       "      <th>45246</th>\n",
       "      <td>Deficiency Code: 03199</td>\n",
       "    </tr>\n",
       "    <tr>\n",
       "      <th>45247</th>\n",
       "      <td>Detainable Deficiency: No\"</td>\n",
       "    </tr>\n",
       "  </tbody>\n",
       "</table>\n",
       "<p>45248 rows × 1 columns</p>\n",
       "</div>"
      ],
      "text/plain": [
       "      PscInspectionId,deficiency_code,Most_Frequent_Severity,def_text\n",
       "0         1622854,11119,Medium,\"PscInspectionId: 1622854             \n",
       "1      Deficiency/Finding: Immersion suit located in ...             \n",
       "2                          Description Overview: UNKNOWN             \n",
       "3                              Immediate Causes: UNKNOWN             \n",
       "4      Root Cause Analysis: PIC was not checked the p...             \n",
       "...                                                  ...             \n",
       "45243  Root Cause Analysis: Inadequate maintenance -....             \n",
       "45244  Corrective Action: -. The missing spring will ...             \n",
       "45245  Preventive Action: -. The responsible crew wil...             \n",
       "45246                             Deficiency Code: 03199             \n",
       "45247                         Detainable Deficiency: No\"             \n",
       "\n",
       "[45248 rows x 1 columns]"
      ]
     },
     "execution_count": 6,
     "metadata": {},
     "output_type": "execute_result"
    }
   ],
   "source": [
    "file_path = \"dataset/most_frequent_severity_with_def_text.csv\"\n",
    "pd.read_csv(file_path)"
   ]
  }
 ],
 "metadata": {
  "kernelspec": {
   "display_name": "maritime_env",
   "language": "python",
   "name": "python3"
  },
  "language_info": {
   "codemirror_mode": {
    "name": "ipython",
    "version": 3
   },
   "file_extension": ".py",
   "mimetype": "text/x-python",
   "name": "python",
   "nbconvert_exporter": "python",
   "pygments_lexer": "ipython3",
   "version": "3.12.8"
  }
 },
 "nbformat": 4,
 "nbformat_minor": 2
}
