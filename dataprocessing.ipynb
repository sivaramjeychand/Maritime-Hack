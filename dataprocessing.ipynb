{
 "cells": [
  {
   "cell_type": "code",
   "execution_count": 8,
   "metadata": {},
   "outputs": [
    {
     "name": "stdout",
     "output_type": "stream",
     "text": [
      "Processed data saved to processed_severity_data.csv\n"
     ]
    }
   ],
   "source": [
    "import pandas as pd\n",
    "from transformers import BertTokenizer\n",
    "from torch.utils.data import DataLoader, TensorDataset\n",
    "import torch\n",
    "\n",
    "def preprocess_for_bert(texts, labels=None, max_length=128, batch_size=16):\n",
    "    tokenizer = BertTokenizer.from_pretrained(\"bert-base-uncased\")\n",
    "    \n",
    "    # Tokenize and encode the texts\n",
    "    encoded = tokenizer(\n",
    "        texts,\n",
    "        add_special_tokens=True,\n",
    "        max_length=max_length,\n",
    "        truncation=True,\n",
    "        padding=\"max_length\",\n",
    "        return_tensors=\"pt\"\n",
    "    )\n",
    "    \n",
    "    input_ids = encoded[\"input_ids\"]\n",
    "    attention_masks = encoded[\"attention_mask\"]\n",
    "    \n",
    "    if labels is not None:\n",
    "        labels_tensor = torch.tensor(labels)\n",
    "        dataset = TensorDataset(input_ids, attention_masks, labels_tensor)\n",
    "    else:\n",
    "        dataset = TensorDataset(input_ids, attention_masks)\n",
    "    \n",
    "    # Create DataLoader\n",
    "    dataloader = DataLoader(dataset, batch_size=batch_size, shuffle=False)\n",
    "    return dataloader, input_ids, attention_masks, labels if labels is not None else None\n",
    "\n",
    "# 1. Load data from CSV\n",
    "file_path = \"most_frequent_severity_with_def_text.csv\"\n",
    "data = pd.read_csv(file_path)\n",
    "\n",
    "# 2. Extract columns\n",
    "texts = data[\"def_text\"].tolist()\n",
    "labels = data[\"Most_Frequent_Severity\"].tolist()\n",
    "\n",
    "# 3. Label-encode the string labels\n",
    "unique_labels = ['Low', 'Medium', 'High']\n",
    "label2id = {label: idx for idx, label in enumerate(unique_labels)}\n",
    "labels = [label2id[label] for label in labels]\n",
    "\n",
    "# 4. Preprocess data\n",
    "dataloader, input_ids, attention_masks, labels = preprocess_for_bert(texts, labels)\n",
    "\n",
    "# 5. Save processed data to a CSV file\n",
    "processed_data = {\n",
    "    \"input_ids\": [list(ids.numpy()) for ids in input_ids],\n",
    "    \"attention_masks\": [list(mask.numpy()) for mask in attention_masks],\n",
    "    \"labels\": labels if labels is not None else None\n",
    "}\n",
    "\n",
    "# Convert to DataFrame\n",
    "processed_df = pd.DataFrame(processed_data)\n",
    "\n",
    "# Save to CSV\n",
    "processed_file_path = \"processed_severity_data.csv\"\n",
    "processed_df.to_csv(processed_file_path, index=False)\n",
    "\n",
    "print(f\"Processed data saved to {processed_file_path}\")"
   ]
  },
  {
   "cell_type": "code",
   "execution_count": null,
   "metadata": {},
   "outputs": [],
   "source": []
  }
 ],
 "metadata": {
  "kernelspec": {
   "display_name": "maritime_env",
   "language": "python",
   "name": "python3"
  },
  "language_info": {
   "codemirror_mode": {
    "name": "ipython",
    "version": 3
   },
   "file_extension": ".py",
   "mimetype": "text/x-python",
   "name": "python",
   "nbconvert_exporter": "python",
   "pygments_lexer": "ipython3",
   "version": "3.12.8"
  }
 },
 "nbformat": 4,
 "nbformat_minor": 2
}
