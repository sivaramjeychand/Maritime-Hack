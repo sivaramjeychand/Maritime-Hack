{
 "cells": [
  {
   "cell_type": "code",
   "execution_count": null,
   "metadata": {},
   "outputs": [],
   "source": [
    "import pandas as pd\n",
    "from transformers import BertTokenizer\n",
    "from torch.utils.data import DataLoader, TensorDataset\n",
    "import torch\n",
    "\n",
    "def preprocess_for_bert(texts, labels=None, max_length=128, batch_size=16):\n",
    "    tokenizer = BertTokenizer.from_pretrained(\"bert-base-uncased\")\n",
    "    \n",
    "    # Tokenize and encode the texts\n",
    "    encoded = tokenizer(\n",
    "        texts,\n",
    "        add_special_tokens=True,\n",
    "        max_length=max_length,\n",
    "        truncation=True,\n",
    "        padding=\"max_length\",\n",
    "        return_tensors=\"pt\"\n",
    "    )\n",
    "    \n",
    "    input_ids = encoded[\"input_ids\"]\n",
    "    attention_masks = encoded[\"attention_mask\"]\n",
    "    \n",
    "    if labels is not None:\n",
    "        labels_tensor = torch.tensor(labels)\n",
    "        dataset = TensorDataset(input_ids, attention_masks, labels_tensor)\n",
    "    else:\n",
    "        dataset = TensorDataset(input_ids, attention_masks)\n",
    "    \n",
    "    # Create DataLoader\n",
    "    dataloader = DataLoader(dataset, batch_size=batch_size, shuffle=True)\n",
    "    return dataloader\n",
    "\n",
    "# Load data from CSV\n",
    "file_path = \"most_frequent_severity_with_def_text.csv\"\n",
    "data = pd.read_csv(file_path)\n",
    "\n",
    "# Extract columns\n",
    "texts = data[\"def_text\"].tolist()\n",
    "labels = data[\"Most_Frequent_Severity\"].tolist()\n",
    "\n",
    "# Preprocess data\n",
    "dataloader = preprocess_for_bert(texts, labels)\n",
    "\n",
    "# Example: Iterate through batches\n",
    "for batch in dataloader:\n",
    "    input_ids, attention_masks, labels = batch\n",
    "    print(f\"Input IDs: {input_ids}\")\n",
    "    print(f\"Attention Masks: {attention_masks}\")\n",
    "    print(f\"Labels: {labels}\")\n"
   ]
  }
 ],
 "metadata": {
  "kernelspec": {
   "display_name": "maritime_env",
   "language": "python",
   "name": "python3"
  },
  "language_info": {
   "codemirror_mode": {
    "name": "ipython",
    "version": 3
   },
   "file_extension": ".py",
   "mimetype": "text/x-python",
   "name": "python",
   "nbconvert_exporter": "python",
   "pygments_lexer": "ipython3",
   "version": "3.12.8"
  }
 },
 "nbformat": 4,
 "nbformat_minor": 2
}
