{
 "cells": [
  {
   "cell_type": "code",
   "execution_count": 2,
   "metadata": {},
   "outputs": [],
   "source": [
    "import pandas as pd\n",
    "\n",
    "# Load the dataset\n",
    "file_path = 'dataset/psc_severity_train.csv'\n",
    "data = pd.read_csv(file_path)\n",
    "\n",
    "psc_data_cleaned = data.dropna(subset=['annotation_severity'])\n",
    "data = psc_data_cleaned[psc_data_cleaned['annotation_severity'] != 'Not a deficiency']\n",
    "\n",
    "# Compute the most frequent severity for each unique combination of PscInspectionId and deficiency_code\n",
    "most_frequent = (\n",
    "    data.groupby([\"PscInspectionId\", \"deficiency_code\"])[\"annotation_severity\"]\n",
    "    .agg(lambda x: x.mode().iloc[0] if not x.mode().empty else None)  # Find the mode (most frequent value)\n",
    "    .reset_index(name=\"Most_Frequent_Severity\")\n",
    ")\n",
    "\n",
    "# Merge with def_text to include the associated text for each combination\n",
    "most_frequent_with_text = most_frequent.merge(\n",
    "    data[[\"PscInspectionId\", \"deficiency_code\", \"def_text\"]].drop_duplicates(),\n",
    "    on=[\"PscInspectionId\", \"deficiency_code\"],\n",
    "    how=\"left\"\n",
    ")\n",
    "\n",
    "# Save or display the final result\n",
    "most_frequent_with_text.to_csv('most_frequent_severity_with_def_text.csv', index=False)"
   ]
  },
  {
   "cell_type": "code",
   "execution_count": null,
   "metadata": {},
   "outputs": [],
   "source": []
  }
 ],
 "metadata": {
  "kernelspec": {
   "display_name": "maritime_env",
   "language": "python",
   "name": "python3"
  },
  "language_info": {
   "codemirror_mode": {
    "name": "ipython",
    "version": 3
   },
   "file_extension": ".py",
   "mimetype": "text/x-python",
   "name": "python",
   "nbconvert_exporter": "python",
   "pygments_lexer": "ipython3",
   "version": "3.12.8"
  }
 },
 "nbformat": 4,
 "nbformat_minor": 2
}
